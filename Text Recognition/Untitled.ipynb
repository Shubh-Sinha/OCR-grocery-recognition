{
 "cells": [
  {
   "cell_type": "code",
   "execution_count": 57,
   "metadata": {},
   "outputs": [],
   "source": [
    "import pytesseract\n",
    "import cv2\n",
    "import matplotlib.pyplot as plt\n",
    "from PIL import Image\n",
    "from io import BytesIO\n",
    "import bs4 as bs\n",
    "import re"
   ]
  },
  {
   "cell_type": "code",
   "execution_count": 58,
   "metadata": {},
   "outputs": [],
   "source": [
    "pytesseract.pytesseract.tesseract_cmd = r'C:\\Program Files\\Tesseract-OCR\\tesseract.exe'"
   ]
  },
  {
   "cell_type": "code",
   "execution_count": 3,
   "metadata": {},
   "outputs": [],
   "source": [
    "img = cv2.imread('demo.jpg')"
   ]
  },
  {
   "cell_type": "code",
   "execution_count": 4,
   "metadata": {},
   "outputs": [
    {
     "data": {
      "text/plain": [
       "<matplotlib.image.AxesImage at 0x2173429a550>"
      ]
     },
     "execution_count": 4,
     "metadata": {},
     "output_type": "execute_result"
    },
    {
     "data": {
      "image/png": "[encoded data removed]",
      "text/plain": [
       "<Figure size 432x288 with 1 Axes>"
      ]
     },
     "metadata": {
      "needs_background": "light"
     },
     "output_type": "display_data"
    }
   ],
   "source": [
    "plt.imshow(img)"
   ]
  },
  {
   "cell_type": "code",
   "execution_count": 5,
   "metadata": {},
   "outputs": [],
   "source": [
    "img2char = pytesseract.image_to_string(img)\n"
   ]
  },
  {
   "cell_type": "code",
   "execution_count": 6,
   "metadata": {},
   "outputs": [
    {
     "name": "stdout",
     "output_type": "stream",
     "text": [
      "IT'S THE WILL\n",
      "NOT THE SKILL.\n",
      "\f",
      "\n"
     ]
    }
   ],
   "source": [
    "print(img2char)"
   ]
  },
  {
   "cell_type": "code",
   "execution_count": 7,
   "metadata": {},
   "outputs": [
    {
     "name": "stdout",
     "output_type": "stream",
     "text": [
      "I 122 352 135 416 0\n",
      "T 138 352 166 416 0\n",
      "' 169 393 182 416 0\n",
      "S 184 351 216 417 0\n",
      "T 235 352 264 416 0\n",
      "H 268 352 299 416 0\n",
      "E 305 352 332 416 0\n",
      "W 351 352 403 416 0\n",
      "I 387 352 411 416 0\n",
      "L 406 352 450 416 0\n",
      "L 454 352 480 416 0\n",
      "N 103 253 135 318 0\n",
      "O 140 253 172 319 0\n",
      "T 175 253 204 318 0\n",
      "T 223 253 251 318 0\n",
      "H 255 253 287 318 0\n",
      "E 292 253 319 318 0\n",
      "S 339 253 371 319 0\n",
      "K 375 253 408 318 0\n",
      "I 409 253 422 318 0\n",
      "L 427 253 454 318 0\n",
      "L 443 253 467 319 0\n",
      ". 457 253 500 318 0\n",
      "\n"
     ]
    }
   ],
   "source": [
    "img2box = pytesseract.image_to_boxes(img)\n",
    "print(img2box)"
   ]
  },
  {
   "cell_type": "code",
   "execution_count": 8,
   "metadata": {},
   "outputs": [
    {
     "data": {
      "text/plain": [
       "str"
      ]
     },
     "execution_count": 8,
     "metadata": {},
     "output_type": "execute_result"
    }
   ],
   "source": [
    "type(img2box)"
   ]
  },
  {
   "cell_type": "code",
   "execution_count": 9,
   "metadata": {},
   "outputs": [
    {
     "data": {
      "text/plain": [
       "(600, 600, 3)"
      ]
     },
     "execution_count": 9,
     "metadata": {},
     "output_type": "execute_result"
    }
   ],
   "source": [
    "img.shape"
   ]
  },
  {
   "cell_type": "code",
   "execution_count": 10,
   "metadata": {},
   "outputs": [],
   "source": [
    "imgH,imgW,_ = img.shape"
   ]
  },
  {
   "cell_type": "code",
   "execution_count": 11,
   "metadata": {},
   "outputs": [],
   "source": [
    "for boxes in img2box.splitlines():\n",
    "    boxes = boxes.split(' ')\n",
    "    x,y,w,h = int(boxes[1]),int(boxes[2]),int(boxes[3]),int(boxes[4])\n",
    "    cv2.rectangle(img,(x,imgH-y),(w,imgW-h),(0,0,225),3)"
   ]
  },
  {
   "cell_type": "code",
   "execution_count": 12,
   "metadata": {},
   "outputs": [
    {
     "data": {
      "text/plain": [
       "<matplotlib.image.AxesImage at 0x217347cd9d0>"
      ]
     },
     "execution_count": 12,
     "metadata": {},
     "output_type": "execute_result"
    },
    {
     "data": {
      "image/png": "[encoded data removed]",
      "text/plain": [
       "<Figure size 432x288 with 1 Axes>"
      ]
     },
     "metadata": {
      "needs_background": "light"
     },
     "output_type": "display_data"
    }
   ],
   "source": [
    "plt.imshow(img)"
   ]
  },
  {
   "cell_type": "code",
   "execution_count": 28,
   "metadata": {},
   "outputs": [],
   "source": [
    "def ocr():\n",
    "    font_scale = 1.5\n",
    "    font = cv2.FONT_HERSHEY_PLAIN\n",
    "\n",
    "    cap = cv2.VideoCapture(1)\n",
    "\n",
    "    if not cap.isOpened():\n",
    "        cap = cv2.VideoCapture(0)\n",
    "    if not cap.isOpened():\n",
    "        raise IOError('No webcam found')\n",
    "\n",
    "    cntr = 0\n",
    "    while True:\n",
    "        ret,frame = cap.read()\n",
    "        cntr += 1\n",
    "        if((cntr%20) == 0):\n",
    "            imgH,imgW,_ = frame.shape\n",
    "            x1,y1,w1,h1 = 0,0,imgH,imgW\n",
    "\n",
    "            img1 = cv2.cvtColor(frame, cv2.COLOR_BGR2RGB)\n",
    "            file = open(\"recognized.txt\", \"w\")\n",
    "            imgchar = pytesseract.image_to_string(Image.fromarray(img1))\n",
    "            imgboxes = pytesseract.image_to_boxes(frame)\n",
    "            for boxes in imgboxes.splitlines():\n",
    "                boxes = boxes.split(' ')\n",
    "                x,y,w,h = int(boxes[1]),int(boxes[2]),int(boxes[3]),int(boxes[4])\n",
    "                cv2.rectangle(frame,(x,imgH-y),(w,imgH-h),(0,0,225),3)\n",
    "\n",
    "            cv2.putText(frame, imgchar, (x1 + int(w1/50), y + int(h1/50)), cv2.FONT_HERSHEY_SIMPLEX, 0.7, (225,0,0), 3)\n",
    "            font = cv2.FONT_HERSHEY_SIMPLEX\n",
    "            file.write(imgchar)\n",
    "            file.close\n",
    "\n",
    "            cv2.imshow('Text Detection', frame)\n",
    "            if cv2.waitKey(2) & 0XFF == ord('q'):\n",
    "                break\n",
    "\n",
    "    cap.release()\n",
    "    cv2.destroyAllWindows()"
   ]
  },
  {
   "cell_type": "code",
   "execution_count": 59,
   "metadata": {},
   "outputs": [],
   "source": [
    "ocr()"
   ]
  },
  {
   "cell_type": "code",
   "execution_count": 67,
   "metadata": {},
   "outputs": [
    {
     "name": "stdout",
     "output_type": "stream",
     "text": [
      "['Amul\\n', 'Cheese']\n"
     ]
    }
   ],
   "source": [
    "with open('recognized.txt', 'r') as txt:\n",
    "    li = txt.readlines()\n",
    "res1 = []\n",
    "res = []\n",
    "product_string = ''\n",
    "for ele in li:\n",
    "    if ele.strip():\n",
    "        res += ele.split(' ')\n",
    "        #res.append(ele)\n",
    "alpha  = 'QWERTYUIOPASDFGHJKLZXCVBNMqwertyuiopasdfghjklzxcvbnm'\n",
    "for i in res:\n",
    "    if i[0] in alpha and len(i) > 2:\n",
    "            res1.append(i)\n",
    "print(res1)"
   ]
  },
  {
   "cell_type": "code",
   "execution_count": 65,
   "metadata": {},
   "outputs": [],
   "source": [
    "def edamam_food_api():   \n",
    "    import requests\n",
    "    url = \"https://edamam-food-and-grocery-database.p.rapidapi.com/parser\"\n",
    "    for i in range(0, len(res1)):\n",
    "        querystring = {}\n",
    "        querystring['ingr'] = res1[i]\n",
    "\n",
    "        headers = {\n",
    "            'x-rapidapi-key': \"19b3910850msheea1657a388e270p168743jsn232d02dddfa9\",\n",
    "            'x-rapidapi-host': \"edamam-food-and-grocery-database.p.rapidapi.com\"\n",
    "            }\n",
    "\n",
    "        r = requests.request(\"GET\", url, headers=headers, params=querystring)\n",
    "        products = r.json()\n",
    "        if(products['hints'] == []):\n",
    "                continue\n",
    "        else:\n",
    "            print('\\n')\n",
    "            name = products['hints'][0]['food']['label']\n",
    "            print(f'Name : {name} \\n')\n",
    "            nutrients = products['hints'][0]['food']['nutrients']\n",
    "            print(f'Nutrients : {nutrients} \\n')\n",
    "\n",
    "            key_to_lookup = 'foodContentsLabel'\n",
    "            if key_to_lookup in products['hints'][0]['food']:\n",
    "                contents = products['hints'][0]['food']['foodContentsLabel']\n",
    "                print(f'Contents : {contents}')\n",
    "            else:\n",
    "                print(\"\")"
   ]
  },
  {
   "cell_type": "code",
   "execution_count": 35,
   "metadata": {},
   "outputs": [],
   "source": [
    "def calories_ninja():\n",
    "    import requests\n",
    "    for i in range(0,len(res1)):\n",
    "        url = \"https://calorieninjas.p.rapidapi.com/v1/nutrition\"\n",
    "\n",
    "        querystring = {}\n",
    "        querystring['query'] = res1[i].lower().title()\n",
    "\n",
    "        headers = {\n",
    "            'x-rapidapi-key': \"19b3910850msheea1657a388e270p168743jsn232d02dddfa9\",\n",
    "            'x-rapidapi-host': \"calorieninjas.p.rapidapi.com\"\n",
    "            }\n",
    "\n",
    "        response = requests.request(\"GET\", url, headers=headers, params=querystring)\n",
    "        product = response.json()\n",
    "        if product['items'] == []:\n",
    "            continue\n",
    "        else:\n",
    "            print(product['items'])"
   ]
  },
  {
   "cell_type": "code",
   "execution_count": 36,
   "metadata": {},
   "outputs": [],
   "source": [
    "def wiki_translate():\n",
    "    import urllib as url\n",
    "    from googletrans import Translator\n",
    "\n",
    "    translator = Translator()\n",
    "    lan = input(\"Enter language:\")\n",
    "\n",
    "    for i in range(0,len(res1)):\n",
    "        print(res1[i])\n",
    "        link = (\"https://en.wikipedia.org/wiki/{}\".format(res1[i].lower()))\n",
    "        page = url.request.urlopen(link).read() \n",
    "        soup = bs.BeautifulSoup(page, 'lxml')\n",
    "        text = ''\n",
    "        for para in soup.find_all('p'):\n",
    "            text += para.text\n",
    "            text = re.sub(r'\\[[0-9]*\\]',' ',text)\n",
    "            text = re.sub(r'\\s+',' ',text)\n",
    "            txt = text.split('.')\n",
    "            deets = txt[:5]\n",
    "\n",
    "        if lan == \"english\": \n",
    "            print(deets)\n",
    "        else:\n",
    "            if lan == \"hindi\": \n",
    "                translations = translator.translate(deets, dest='hi')\n",
    "\n",
    "            if lan == \"spanish\": \n",
    "                translations = translator.translate(deets, dest='es')\n",
    "\n",
    "            if lan == \"french\": \n",
    "                translations = translator.translate(deets, dest='fr')\n",
    "\n",
    "            if lan == \"german\": \n",
    "                translations = translator.translate(deets, dest='ge')\n",
    "\n",
    "            if lan == \"japanese\": \n",
    "                translations = translator.translate(deets, dest='ja')\n",
    "\n",
    "            for translation in translations:\n",
    "                    print(translation.text)"
   ]
  },
  {
   "cell_type": "code",
   "execution_count": 68,
   "metadata": {},
   "outputs": [
    {
     "name": "stdout",
     "output_type": "stream",
     "text": [
      "\n",
      "\n",
      "Name : Amul Cheese Slices 7.06 Oz \n",
      "\n",
      "Nutrients : {'ENERC_KCAL': 350.0, 'PROCNT': 20.0, 'FAT': 25.0, 'CHOCDF': 0.0} \n",
      "\n",
      "Contents : Cheddar Cheese ( Milk; Cheese Culture; Salt And Enzymes ); Sodium Citrate; Sodium Phospate; Milk Solids; Salt; Citric Acid And Water; Sorbic Acid E 200 And Nisin As Preservatives.\n",
      "\n",
      "\n",
      "Name : Cheese \n",
      "\n",
      "Nutrients : {'ENERC_KCAL': 406.0, 'PROCNT': 24.04, 'FAT': 33.82, 'CHOCDF': 1.33, 'FIBTG': 0.0} \n",
      "\n",
      "\n",
      "[{'sugar_g': 0.5, 'fiber_g': 0.0, 'serving_size_g': 100.0, 'sodium_mg': 661, 'name': 'cheese', 'potassium_mg': 459, 'fat_saturated_g': 18.9, 'fat_total_g': 33.0, 'calories': 393.9, 'cholesterol_mg': 100, 'protein_g': 22.7, 'carbohydrates_total_g': 3.2}]\n",
      "Enter language:english\n",
      "Amul\n",
      "\n",
      "[' Amul, is an Indian dairy cooperative society, based at Anand in the Indian state of Gujarat', ' Formed in 1946, it is a cooperative brand managed by a cooperative body, the Gujarat Co-operative Milk Marketing Federation Ltd', ' (GCMMF), which today is jointly owned by 36 lakh (3', '6 million) milk producers in Gujarat,and the apex body of 13 District Milk Unions,spread across 13,000 villages of Gujarat', \" Amul spurred India's White Revolution, which made the country the world's largest producer of milk and milk products\"]\n",
      "Cheese\n",
      "[' Cheese is a dairy product, derived from milk and produced in wide ranges of flavors, textures and forms by coagulation of the milk protein casein', ' It comprises proteins and fat from milk, usually the milk of cows, buffalo, goats, or sheep', ' During production, the milk is usually acidified and the enzymes of rennet (or bacterial enzymes with similar activity) are added to cause the milk proteins (casein) to coagulate', ' The solids (curd) are separated from the liquid (whey) and pressed into final form', ' Some cheeses have aromatic molds on the rind, the outer layer, or throughout']\n"
     ]
    }
   ],
   "source": [
    "edamam_food_api()\n",
    "calories_ninja()\n",
    "wiki_translate()"
   ]
  },
  {
   "cell_type": "code",
   "execution_count": null,
   "metadata": {},
   "outputs": [],
   "source": []
  }
 ],
 "metadata": {
  "kernelspec": {
   "display_name": "Python 3",
   "language": "python",
   "name": "python3"
  },
  "language_info": {
   "codemirror_mode": {
    "name": "ipython",
    "version": 3
   },
   "file_extension": ".py",
   "mimetype": "text/x-python",
   "name": "python",
   "nbconvert_exporter": "python",
   "pygments_lexer": "ipython3",
   "version": "3.8.5"
  }
 },
 "nbformat": 4,
 "nbformat_minor": 4
}
